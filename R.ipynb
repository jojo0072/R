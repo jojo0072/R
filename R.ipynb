{
 "cells": [
  {
   "cell_type": "markdown",
   "id": "05d0667b-3a02-45b6-9f87-7c3549e0004d",
   "metadata": {},
   "source": [
    "**2. Variables**"
   ]
  },
  {
   "cell_type": "markdown",
   "id": "8942ef8d-a804-41ba-8341-3b832d73a93f",
   "metadata": {},
   "source": [
    "2.1. Initializing a variable and output it"
   ]
  },
  {
   "cell_type": "code",
   "execution_count": 24,
   "id": "a191a864-63d8-435f-88a2-cfc8d8b7e97f",
   "metadata": {},
   "outputs": [
    {
     "name": "stdout",
     "output_type": "stream",
     "text": [
      "[1] 7\n"
     ]
    },
    {
     "data": {
      "text/html": [
       "'hey'"
      ],
      "text/latex": [
       "'hey'"
      ],
      "text/markdown": [
       "'hey'"
      ],
      "text/plain": [
       "[1] \"hey\""
      ]
     },
     "metadata": {},
     "output_type": "display_data"
    }
   ],
   "source": [
    "x <-7\n",
    "y=\"hey\"\n",
    "print(x)\n",
    "y"
   ]
  },
  {
   "cell_type": "markdown",
   "id": "3dda9d1c-4e7d-4631-ba1f-5f03d2f13fb7",
   "metadata": {},
   "source": [
    "2.2. Overwriting"
   ]
  },
  {
   "cell_type": "code",
   "execution_count": 27,
   "id": "03e132ea-4b98-431a-abd4-3b535044db0b",
   "metadata": {},
   "outputs": [
    {
     "data": {
      "text/html": [
       "7"
      ],
      "text/latex": [
       "7"
      ],
      "text/markdown": [
       "7"
      ],
      "text/plain": [
       "[1] 7"
      ]
     },
     "metadata": {},
     "output_type": "display_data"
    }
   ],
   "source": [
    "w<-7\n",
    "w<-99\n",
    "w"
   ]
  },
  {
   "cell_type": "markdown",
   "id": "d28043df-c5f6-4492-bfa7-6023863766f7",
   "metadata": {},
   "source": [
    "2.3. Single and double quotes"
   ]
  },
  {
   "cell_type": "code",
   "execution_count": 33,
   "id": "cfe699ca-0e5b-4679-8711-7b046f8c3deb",
   "metadata": {},
   "outputs": [
    {
     "data": {
      "text/html": [
       "'yes'"
      ],
      "text/latex": [
       "'yes'"
      ],
      "text/markdown": [
       "'yes'"
      ],
      "text/plain": [
       "[1] \"yes\""
      ]
     },
     "metadata": {},
     "output_type": "display_data"
    },
    {
     "data": {
      "text/html": [
       "'yes'"
      ],
      "text/latex": [
       "'yes'"
      ],
      "text/markdown": [
       "'yes'"
      ],
      "text/plain": [
       "[1] \"yes\""
      ]
     },
     "metadata": {},
     "output_type": "display_data"
    }
   ],
   "source": [
    "j=\"yes\"\n",
    "k='yes'\n",
    "j\n",
    "k # exception escape characters"
   ]
  },
  {
   "cell_type": "markdown",
   "id": "9688c29e-11c7-4f44-9322-12e823ba32f4",
   "metadata": {},
   "source": [
    "2.4. Variable Names"
   ]
  },
  {
   "cell_type": "code",
   "execution_count": 35,
   "id": "93d944a5-02ad-4918-9e6f-c2403711b759",
   "metadata": {},
   "outputs": [],
   "source": [
    "hey=88 # one word\n",
    "jojo8z=77 # numbers\n",
    "jojo_r=99 # underscore\n",
    "Jojo=55 # uppercase\n",
    ".jojo=9 # start with period"
   ]
  },
  {
   "cell_type": "markdown",
   "id": "6ce39669-896f-4218-8eb7-9f0cfc3a3cc5",
   "metadata": {},
   "source": [
    "2.5. Assign same value to multiple variables"
   ]
  },
  {
   "cell_type": "code",
   "execution_count": 39,
   "id": "3027cb62-71e6-4931-ad52-12bc3c2abfd7",
   "metadata": {},
   "outputs": [
    {
     "data": {
      "text/html": [
       "222"
      ],
      "text/latex": [
       "222"
      ],
      "text/markdown": [
       "222"
      ],
      "text/plain": [
       "[1] 222"
      ]
     },
     "metadata": {},
     "output_type": "display_data"
    }
   ],
   "source": [
    "x=y=z=222\n",
    "y"
   ]
  },
  {
   "cell_type": "markdown",
   "id": "0a2c877a-f9c3-47be-925c-c65eb9b5d4d2",
   "metadata": {},
   "source": [
    "(2.6. Concatenation)"
   ]
  },
  {
   "cell_type": "code",
   "execution_count": 2,
   "id": "7f5b6143-8b90-4465-b47d-fd4bf63bda22",
   "metadata": {},
   "outputs": [
    {
     "data": {
      "text/html": [
       "'hey yo'"
      ],
      "text/latex": [
       "'hey yo'"
      ],
      "text/markdown": [
       "'hey yo'"
      ],
      "text/plain": [
       "[1] \"hey yo\""
      ]
     },
     "metadata": {},
     "output_type": "display_data"
    },
    {
     "data": {
      "text/html": [
       "'hey yo'"
      ],
      "text/latex": [
       "'hey yo'"
      ],
      "text/markdown": [
       "'hey yo'"
      ],
      "text/plain": [
       "[1] \"hey yo\""
      ]
     },
     "metadata": {},
     "output_type": "display_data"
    },
    {
     "data": {
      "text/html": [
       "14"
      ],
      "text/latex": [
       "14"
      ],
      "text/markdown": [
       "14"
      ],
      "text/plain": [
       "[1] 14"
      ]
     },
     "metadata": {},
     "output_type": "display_data"
    },
    {
     "data": {
      "text/html": [
       "104"
      ],
      "text/latex": [
       "104"
      ],
      "text/markdown": [
       "104"
      ],
      "text/plain": [
       "[1] 104"
      ]
     },
     "metadata": {},
     "output_type": "display_data"
    }
   ],
   "source": [
    "x<-\"hey\"\n",
    "y<-\"yo\"\n",
    "paste(x, y)\n",
    "paste(\"hey\", y)\n",
    "z<-7\n",
    "z + z\n",
    "5+99"
   ]
  },
  {
   "cell_type": "markdown",
   "id": "684cfa58-e00f-4012-b7d9-d7056e37f79a",
   "metadata": {},
   "source": [
    "**3. Comment**"
   ]
  },
  {
   "cell_type": "code",
   "execution_count": 40,
   "id": "05522168-4e7b-4d9e-9ce5-3c1240ee678e",
   "metadata": {},
   "outputs": [],
   "source": [
    "# this is a comment"
   ]
  },
  {
   "cell_type": "code",
   "execution_count": 1,
   "id": "5b349c64-3a5b-4e6f-89b3-2fb6d31c291c",
   "metadata": {},
   "outputs": [
    {
     "data": {
      "text/html": [
       "'character'"
      ],
      "text/latex": [
       "'character'"
      ],
      "text/markdown": [
       "'character'"
      ],
      "text/plain": [
       "[1] \"character\""
      ]
     },
     "metadata": {},
     "output_type": "display_data"
    }
   ],
   "source": [
    "a=\"hey\"\n",
    "class(a)"
   ]
  },
  {
   "cell_type": "markdown",
   "id": "da6c3606-43b3-43a0-8739-13cf897eccce",
   "metadata": {},
   "source": [
    "**4. Operators**"
   ]
  },
  {
   "cell_type": "code",
   "execution_count": null,
   "id": "54ebff80-a894-4fe6-a053-9b7f77da16a3",
   "metadata": {},
   "outputs": [],
   "source": []
  },
  {
   "cell_type": "code",
   "execution_count": null,
   "id": "269b3643-a366-40c5-aa6f-6785ee2f9917",
   "metadata": {},
   "outputs": [],
   "source": []
  },
  {
   "cell_type": "markdown",
   "id": "d0918bd7-0f10-46c3-b8c2-a98bb58fcf6f",
   "metadata": {},
   "source": [
    "**5. Integer data type**"
   ]
  },
  {
   "cell_type": "code",
   "execution_count": 5,
   "id": "4e160a21-f7c2-46fb-8bc9-28151cc84909",
   "metadata": {},
   "outputs": [
    {
     "data": {
      "text/html": [
       "'integer'"
      ],
      "text/latex": [
       "'integer'"
      ],
      "text/markdown": [
       "'integer'"
      ],
      "text/plain": [
       "[1] \"integer\""
      ]
     },
     "metadata": {},
     "output_type": "display_data"
    }
   ],
   "source": [
    "x <-5L"
   ]
  },
  {
   "cell_type": "markdown",
   "id": "8e56e6bd-b723-4235-8f26-7d9248478655",
   "metadata": {},
   "source": [
    "5.1. Convert to numeric or complex"
   ]
  },
  {
   "cell_type": "code",
   "execution_count": 9,
   "id": "1707b59f-6002-4989-831b-ae9ec10d9e9c",
   "metadata": {},
   "outputs": [
    {
     "data": {
      "text/html": [
       "5"
      ],
      "text/latex": [
       "5"
      ],
      "text/markdown": [
       "5"
      ],
      "text/plain": [
       "[1] 5"
      ]
     },
     "metadata": {},
     "output_type": "display_data"
    }
   ],
   "source": [
    "num<-as.numeric(x)\n",
    "com<-as.complex(x)"
   ]
  },
  {
   "cell_type": "markdown",
   "id": "0c37abdb-c074-4a85-850f-7f19dd4f18b3",
   "metadata": {},
   "source": [
    "**6. Numeric data type**"
   ]
  },
  {
   "cell_type": "code",
   "execution_count": 10,
   "id": "35ae982d-b908-4de2-b0f9-7487bbc075fb",
   "metadata": {},
   "outputs": [],
   "source": [
    "y<-8.8\n",
    "z<-9"
   ]
  },
  {
   "cell_type": "markdown",
   "id": "408ab3a7-5f4e-4625-9c6a-bfc94d5cad84",
   "metadata": {},
   "source": [
    "6.1. Convert to integer or complex"
   ]
  },
  {
   "cell_type": "code",
   "execution_count": 18,
   "id": "f80b25db-f6f8-4a18-a539-b97bae38920f",
   "metadata": {},
   "outputs": [],
   "source": [
    "int<-as.integer(y)\n",
    "comp<-as.complex(y)"
   ]
  },
  {
   "cell_type": "markdown",
   "id": "bef93865-2449-4958-bee3-0637f76622ad",
   "metadata": {},
   "source": [
    "**7. Complex data type**"
   ]
  },
  {
   "cell_type": "code",
   "execution_count": 21,
   "id": "5be87968-e886-4dff-b7e5-4e74422f4b7f",
   "metadata": {},
   "outputs": [],
   "source": [
    "a<-7i\n",
    "b<-99.7+3i\n",
    "# no conversion possible"
   ]
  },
  {
   "cell_type": "markdown",
   "id": "379cdeb5-456c-4fb9-a352-6f443bc47b9b",
   "metadata": {},
   "source": [
    "**8. String data type**"
   ]
  },
  {
   "cell_type": "code",
   "execution_count": null,
   "id": "98829620-1e78-4767-a5c3-a3067bc8f4e1",
   "metadata": {},
   "outputs": [],
   "source": [
    "str1<-\"hey\"\n",
    "str2<-'hey'"
   ]
  },
  {
   "cell_type": "markdown",
   "id": "2c606491-0454-4207-9c5f-5e60bc875075",
   "metadata": {},
   "source": [
    "8.1. Multiline Strings"
   ]
  },
  {
   "cell_type": "code",
   "execution_count": 24,
   "id": "57b1eb56-2f49-4704-a910-061ed2c2afbc",
   "metadata": {},
   "outputs": [
    {
     "data": {
      "text/html": [
       "'Lorem ipsum dolor sit amet,\\nconsectetur adipiscing elit,\\nsed do eiusmod tempor incididunt\\nut labore et dolore magna aliqua.'"
      ],
      "text/latex": [
       "'Lorem ipsum dolor sit amet,\\textbackslash{}nconsectetur adipiscing elit,\\textbackslash{}nsed do eiusmod tempor incididunt\\textbackslash{}nut labore et dolore magna aliqua.'"
      ],
      "text/markdown": [
       "'Lorem ipsum dolor sit amet,\\nconsectetur adipiscing elit,\\nsed do eiusmod tempor incididunt\\nut labore et dolore magna aliqua.'"
      ],
      "text/plain": [
       "[1] \"Lorem ipsum dolor sit amet,\\nconsectetur adipiscing elit,\\nsed do eiusmod tempor incididunt\\nut labore et dolore magna aliqua.\""
      ]
     },
     "metadata": {},
     "output_type": "display_data"
    },
    {
     "name": "stdout",
     "output_type": "stream",
     "text": [
      "Lorem ipsum dolor sit amet,\n",
      "consectetur adipiscing elit,\n",
      "sed do eiusmod tempor incididunt\n",
      "ut labore et dolore magna aliqua."
     ]
    }
   ],
   "source": [
    "str <- \"Lorem ipsum dolor sit amet,\n",
    "consectetur adipiscing elit,\n",
    "sed do eiusmod tempor incididunt\n",
    "ut labore et dolore magna aliqua.\" # will insert line breaks\n",
    "str\n",
    "# print normal without escape characters\n",
    "cat(str)"
   ]
  },
  {
   "cell_type": "markdown",
   "id": "68ec1268-b54d-479e-b38d-bb89103e063c",
   "metadata": {},
   "source": [
    "8.2. String length"
   ]
  },
  {
   "cell_type": "code",
   "execution_count": 25,
   "id": "a44744a6-9a91-45ef-8ba3-451960eb5039",
   "metadata": {},
   "outputs": [
    {
     "data": {
      "text/html": [
       "123"
      ],
      "text/latex": [
       "123"
      ],
      "text/markdown": [
       "123"
      ],
      "text/plain": [
       "[1] 123"
      ]
     },
     "metadata": {},
     "output_type": "display_data"
    }
   ],
   "source": [
    "nchar(str)"
   ]
  },
  {
   "cell_type": "markdown",
   "id": "7d0d76ef-d575-43fe-b731-92f847f6f19c",
   "metadata": {},
   "source": [
    "8.3. Check if value is present"
   ]
  },
  {
   "cell_type": "code",
   "execution_count": 29,
   "id": "f0c19856-700e-4826-90ff-cb044ac88e2c",
   "metadata": {},
   "outputs": [
    {
     "data": {
      "text/html": [
       "TRUE"
      ],
      "text/latex": [
       "TRUE"
      ],
      "text/markdown": [
       "TRUE"
      ],
      "text/plain": [
       "[1] TRUE"
      ]
     },
     "metadata": {},
     "output_type": "display_data"
    }
   ],
   "source": [
    "grepl(\"ipsum\", str)\n",
    "\n",
    "\n",
    "# concatenation need paste function"
   ]
  },
  {
   "cell_type": "markdown",
   "id": "2a0da4ef-5d54-4a70-942b-4c600e08983a",
   "metadata": {},
   "source": [
    "8.4. Escape characters"
   ]
  },
  {
   "cell_type": "code",
   "execution_count": 33,
   "id": "78b0a5ff-bdd5-42f3-a73f-4e8fa36fe01e",
   "metadata": {},
   "outputs": [
    {
     "name": "stdout",
     "output_type": "stream",
     "text": [
      "[1] \"This is an example of a single quote: '\"\n",
      "[1] \"This is an example of a double quote: \\\"\"\n",
      "[1] \"This is an example of a backslash: \\\\\"\n",
      "[1] \"This is an example of a new line:\\nSecond line\"\n"
     ]
    },
    {
     "data": {
      "text/html": [
       "'This is an example of a tab:\\tSecond column'"
      ],
      "text/latex": [
       "'This is an example of a tab:\\textbackslash{}tSecond column'"
      ],
      "text/markdown": [
       "'This is an example of a tab:\\tSecond column'"
      ],
      "text/plain": [
       "[1] \"This is an example of a tab:\\tSecond column\""
      ]
     },
     "metadata": {},
     "output_type": "display_data"
    },
    {
     "name": "stdout",
     "output_type": "stream",
     "text": [
      "This is an example of a tab:\tSecond column"
     ]
    }
   ],
   "source": [
    "# 1 Single Quote\n",
    "print('This is an example of a single quote: \\'')\n",
    "\n",
    "# 2 Double Quote\n",
    "print(\"This is an example of a double quote: \\\"\")\n",
    "\n",
    "# 3 Backslash\n",
    "print(\"This is an example of a backslash: \\\\\")\n",
    "\n",
    "# 4 New Line\n",
    "print(\"This is an example of a new line:\\nSecond line\")\n",
    "\n",
    "# 5 Tab\n",
    "f<-(\"This is an example of a tab:\\tSecond column\")\n",
    "\n",
    "f\n",
    "cat(f)"
   ]
  },
  {
   "cell_type": "markdown",
   "id": "ac6cd61a-b0e4-48cb-bdf7-0d23767b7598",
   "metadata": {},
   "source": [
    "**9. Boolean data type**"
   ]
  },
  {
   "cell_type": "code",
   "execution_count": 35,
   "id": "2ae3982b-f407-452a-858f-ccd8a79b3ff2",
   "metadata": {},
   "outputs": [
    {
     "data": {
      "text/html": [
       "FALSE"
      ],
      "text/latex": [
       "FALSE"
      ],
      "text/markdown": [
       "FALSE"
      ],
      "text/plain": [
       "[1] FALSE"
      ]
     },
     "metadata": {},
     "output_type": "display_data"
    },
    {
     "data": {
      "text/html": [
       "TRUE"
      ],
      "text/latex": [
       "TRUE"
      ],
      "text/markdown": [
       "TRUE"
      ],
      "text/plain": [
       "[1] TRUE"
      ]
     },
     "metadata": {},
     "output_type": "display_data"
    }
   ],
   "source": [
    "# Compare values\n",
    "9 == 100\n",
    "3<9\n",
    "# if statements (later)"
   ]
  },
  {
   "cell_type": "markdown",
   "id": "afe499f7-4b86-43a8-bd37-017ceeb26943",
   "metadata": {},
   "source": [
    "**10. Operators**"
   ]
  },
  {
   "cell_type": "markdown",
   "id": "34b92698-7884-4ec8-baa6-fb8c6e63f91b",
   "metadata": {},
   "source": [
    "10.1. Arithmetic operators"
   ]
  },
  {
   "cell_type": "code",
   "execution_count": 37,
   "id": "a812772d-b1d2-42f4-965a-9fe9a9d70648",
   "metadata": {},
   "outputs": [
    {
     "data": {
      "text/html": [
       "4096"
      ],
      "text/latex": [
       "4096"
      ],
      "text/markdown": [
       "4096"
      ],
      "text/plain": [
       "[1] 4096"
      ]
     },
     "metadata": {},
     "output_type": "display_data"
    },
    {
     "data": {
      "text/html": [
       "0"
      ],
      "text/latex": [
       "0"
      ],
      "text/markdown": [
       "0"
      ],
      "text/plain": [
       "[1] 0"
      ]
     },
     "metadata": {},
     "output_type": "display_data"
    },
    {
     "data": {
      "text/html": [
       "2"
      ],
      "text/latex": [
       "2"
      ],
      "text/markdown": [
       "2"
      ],
      "text/plain": [
       "[1] 2"
      ]
     },
     "metadata": {},
     "output_type": "display_data"
    },
    {
     "data": {
      "text/html": [
       "2"
      ],
      "text/latex": [
       "2"
      ],
      "text/markdown": [
       "2"
      ],
      "text/plain": [
       "[1] 2"
      ]
     },
     "metadata": {},
     "output_type": "display_data"
    },
    {
     "data": {
      "text/html": [
       "32"
      ],
      "text/latex": [
       "32"
      ],
      "text/markdown": [
       "32"
      ],
      "text/plain": [
       "[1] 32"
      ]
     },
     "metadata": {},
     "output_type": "display_data"
    },
    {
     "data": {
      "text/html": [
       "4"
      ],
      "text/latex": [
       "4"
      ],
      "text/markdown": [
       "4"
      ],
      "text/plain": [
       "[1] 4"
      ]
     },
     "metadata": {},
     "output_type": "display_data"
    },
    {
     "data": {
      "text/html": [
       "12"
      ],
      "text/latex": [
       "12"
      ],
      "text/markdown": [
       "12"
      ],
      "text/plain": [
       "[1] 12"
      ]
     },
     "metadata": {},
     "output_type": "display_data"
    }
   ],
   "source": [
    "#1 Exponent\n",
    "8^4\n",
    "\n",
    "#2 Modulus\n",
    "8 %% 4\n",
    "#3 Integer Division\n",
    "8 %/%4\n",
    "\n",
    "#4 Division\n",
    "8/4\n",
    "\n",
    "#5 Multiplication\n",
    "8*4\n",
    "\n",
    "#6 Subtraction\n",
    "8-4\n",
    "\n",
    "#7 Addition\n",
    "8+4"
   ]
  },
  {
   "cell_type": "markdown",
   "id": "c3218596-8144-4e07-b517-674d4830de14",
   "metadata": {},
   "source": [
    "10.2. Assignement operators"
   ]
  },
  {
   "cell_type": "code",
   "execution_count": null,
   "id": "592d6ec8-88a6-4b64-a19e-c4a679a88d4f",
   "metadata": {},
   "outputs": [],
   "source": [
    "my_var <- 3\n",
    "\n",
    "my_var <<- 3\n",
    "\n",
    "3 -> my_var\n",
    "\n",
    "3 ->> my_var"
   ]
  },
  {
   "cell_type": "markdown",
   "id": "6353d080-f50e-40b0-b444-8469d92cdeb4",
   "metadata": {},
   "source": [
    "10.3. Comparison operators"
   ]
  },
  {
   "cell_type": "code",
   "execution_count": 39,
   "id": "14dbd3c9-7c99-4615-8c2d-e8969b774e43",
   "metadata": {},
   "outputs": [
    {
     "name": "stdout",
     "output_type": "stream",
     "text": [
      "[1] FALSE\n",
      "[1] TRUE\n",
      "[1] FALSE\n",
      "[1] TRUE\n",
      "[1] TRUE\n",
      "[1] TRUE\n",
      "[1] TRUE\n",
      "[1] FALSE\n",
      "[1] TRUE\n"
     ]
    }
   ],
   "source": [
    "#1 equal to\n",
    "print(6==7)\n",
    "\n",
    "#2 not equal to\n",
    "print(6!=7)\n",
    "\n",
    "#3 less than\n",
    "print(7<6)\n",
    "\n",
    "#4 greater than\n",
    "print(7>6)\n",
    "\n",
    "#5 less than or equal to\n",
    "print(7<=7)\n",
    "\n",
    "#6 greater than or equal to\n",
    "print(7>=6)\n",
    "\n",
    "\n",
    "# Special Cases\n",
    "print(1==TRUE)\n",
    "print(0==TRUE)\n",
    "print(0==FALSE)"
   ]
  },
  {
   "cell_type": "markdown",
   "id": "77e1df9e-0292-466d-b0a4-f60de90abc0c",
   "metadata": {},
   "source": [
    "10.4. ...???"
   ]
  },
  {
   "cell_type": "code",
   "execution_count": 6,
   "id": "e102fb51-06ef-4be4-9ccd-a323b52164bb",
   "metadata": {},
   "outputs": [
    {
     "name": "stdout",
     "output_type": "stream",
     "text": [
      "[1] \"red\"\n",
      "[1] \"green\"\n",
      "[1] \"blue\"\n"
     ]
    }
   ],
   "source": [
    "word<-c(\"red\", \"green\", \"blue\")\n",
    "for (x in word) {\n",
    "    print(x)\n",
    "}"
   ]
  },
  {
   "cell_type": "code",
   "execution_count": null,
   "id": "6ca726bd-aadd-4b32-a751-01869f29ab65",
   "metadata": {},
   "outputs": [],
   "source": []
  },
  {
   "cell_type": "markdown",
   "id": "37dde188-db80-488d-9c6c-db495e813608",
   "metadata": {},
   "source": [
    "**xy. Built-in functions**"
   ]
  },
  {
   "cell_type": "code",
   "execution_count": 34,
   "id": "2ac7b747-7b7b-4397-9416-ad837260cf18",
   "metadata": {},
   "outputs": [],
   "source": [
    "# paste, print, class, as.integer * 3, abs, sqrt, min, max, ceiling, floor, cat, length, sort"
   ]
  },
  {
   "cell_type": "markdown",
   "id": "bba0fdd4-7759-45d5-8e73-eaf01e27baaf",
   "metadata": {},
   "source": [
    "**xz. User-defined functions**"
   ]
  },
  {
   "cell_type": "markdown",
   "id": "425fd06b-0f1f-48c5-a3d8-f7ba734452d3",
   "metadata": {},
   "source": [
    "**Vectors**"
   ]
  },
  {
   "cell_type": "markdown",
   "id": "11c60d9d-826a-4e19-beba-3fae6c163703",
   "metadata": {},
   "source": [
    "Initializing vectors"
   ]
  },
  {
   "cell_type": "code",
   "execution_count": 12,
   "id": "bf16e143-741f-450d-a6eb-b23ffcdcf07f",
   "metadata": {},
   "outputs": [],
   "source": [
    "a<-c(3, 5, 6, 8)\n",
    "b<-1:10.8\n",
    "c<-c(\"a\", \"b\", \"c\")\n",
    "d<-seq(from=0, to=20, by=2)"
   ]
  },
  {
   "cell_type": "markdown",
   "id": "bafb4092-22d6-4570-9bf1-0bbf9fdb1175",
   "metadata": {},
   "source": [
    "Indexing and Slicing"
   ]
  },
  {
   "cell_type": "code",
   "execution_count": 18,
   "id": "d4857464-a201-42e0-b210-9fc02eac0de4",
   "metadata": {},
   "outputs": [
    {
     "data": {
      "text/html": [
       "'a'"
      ],
      "text/latex": [
       "'a'"
      ],
      "text/markdown": [
       "'a'"
      ],
      "text/plain": [
       "[1] \"a\""
      ]
     },
     "metadata": {},
     "output_type": "display_data"
    },
    {
     "data": {
      "text/html": [
       "<style>\n",
       ".list-inline {list-style: none; margin:0; padding: 0}\n",
       ".list-inline>li {display: inline-block}\n",
       ".list-inline>li:not(:last-child)::after {content: \"\\00b7\"; padding: 0 .5ex}\n",
       "</style>\n",
       "<ol class=list-inline><li>3</li><li>8</li></ol>\n"
      ],
      "text/latex": [
       "\\begin{enumerate*}\n",
       "\\item 3\n",
       "\\item 8\n",
       "\\end{enumerate*}\n"
      ],
      "text/markdown": [
       "1. 3\n",
       "2. 8\n",
       "\n",
       "\n"
      ],
      "text/plain": [
       "[1] 3 8"
      ]
     },
     "metadata": {},
     "output_type": "display_data"
    },
    {
     "data": {
      "text/html": [
       "<style>\n",
       ".list-inline {list-style: none; margin:0; padding: 0}\n",
       ".list-inline>li {display: inline-block}\n",
       ".list-inline>li:not(:last-child)::after {content: \"\\00b7\"; padding: 0 .5ex}\n",
       "</style>\n",
       "<ol class=list-inline><li>3</li><li>6</li><li>8</li></ol>\n"
      ],
      "text/latex": [
       "\\begin{enumerate*}\n",
       "\\item 3\n",
       "\\item 6\n",
       "\\item 8\n",
       "\\end{enumerate*}\n"
      ],
      "text/markdown": [
       "1. 3\n",
       "2. 6\n",
       "3. 8\n",
       "\n",
       "\n"
      ],
      "text/plain": [
       "[1] 3 6 8"
      ]
     },
     "metadata": {},
     "output_type": "display_data"
    }
   ],
   "source": [
    "c[1] # index starts at 1\n",
    "a[c(1, 4)] # access multiple items\n",
    "a[-2] # show every item except the specified one\n",
    "a[3]<-9 # change item"
   ]
  },
  {
   "cell_type": "markdown",
   "id": "6b16ce33-0d80-4219-bc5c-166ed65ab505",
   "metadata": {},
   "source": [
    "Repeat vectors"
   ]
  },
  {
   "cell_type": "code",
   "execution_count": 26,
   "id": "6f9fc0d6-b2c4-46db-8402-6a57ac6ca808",
   "metadata": {},
   "outputs": [
    {
     "data": {
      "text/html": [
       "<style>\n",
       ".list-inline {list-style: none; margin:0; padding: 0}\n",
       ".list-inline>li {display: inline-block}\n",
       ".list-inline>li:not(:last-child)::after {content: \"\\00b7\"; padding: 0 .5ex}\n",
       "</style>\n",
       "<ol class=list-inline><li>1</li><li>1</li><li>1</li><li>2</li><li>2</li><li>2</li><li>3</li><li>3</li><li>3</li></ol>\n"
      ],
      "text/latex": [
       "\\begin{enumerate*}\n",
       "\\item 1\n",
       "\\item 1\n",
       "\\item 1\n",
       "\\item 2\n",
       "\\item 2\n",
       "\\item 2\n",
       "\\item 3\n",
       "\\item 3\n",
       "\\item 3\n",
       "\\end{enumerate*}\n"
      ],
      "text/markdown": [
       "1. 1\n",
       "2. 1\n",
       "3. 1\n",
       "4. 2\n",
       "5. 2\n",
       "6. 2\n",
       "7. 3\n",
       "8. 3\n",
       "9. 3\n",
       "\n",
       "\n"
      ],
      "text/plain": [
       "[1] 1 1 1 2 2 2 3 3 3"
      ]
     },
     "metadata": {},
     "output_type": "display_data"
    },
    {
     "data": {
      "text/html": [
       "<style>\n",
       ".list-inline {list-style: none; margin:0; padding: 0}\n",
       ".list-inline>li {display: inline-block}\n",
       ".list-inline>li:not(:last-child)::after {content: \"\\00b7\"; padding: 0 .5ex}\n",
       "</style>\n",
       "<ol class=list-inline><li>1</li><li>2</li><li>3</li><li>1</li><li>2</li><li>3</li><li>1</li><li>2</li><li>3</li></ol>\n"
      ],
      "text/latex": [
       "\\begin{enumerate*}\n",
       "\\item 1\n",
       "\\item 2\n",
       "\\item 3\n",
       "\\item 1\n",
       "\\item 2\n",
       "\\item 3\n",
       "\\item 1\n",
       "\\item 2\n",
       "\\item 3\n",
       "\\end{enumerate*}\n"
      ],
      "text/markdown": [
       "1. 1\n",
       "2. 2\n",
       "3. 3\n",
       "4. 1\n",
       "5. 2\n",
       "6. 3\n",
       "7. 1\n",
       "8. 2\n",
       "9. 3\n",
       "\n",
       "\n"
      ],
      "text/plain": [
       "[1] 1 2 3 1 2 3 1 2 3"
      ]
     },
     "metadata": {},
     "output_type": "display_data"
    },
    {
     "data": {
      "text/html": [
       "<style>\n",
       ".list-inline {list-style: none; margin:0; padding: 0}\n",
       ".list-inline>li {display: inline-block}\n",
       ".list-inline>li:not(:last-child)::after {content: \"\\00b7\"; padding: 0 .5ex}\n",
       "</style>\n",
       "<ol class=list-inline><li>1</li><li>1</li><li>1</li><li>1</li><li>1</li><li>2</li><li>2</li><li>3</li></ol>\n"
      ],
      "text/latex": [
       "\\begin{enumerate*}\n",
       "\\item 1\n",
       "\\item 1\n",
       "\\item 1\n",
       "\\item 1\n",
       "\\item 1\n",
       "\\item 2\n",
       "\\item 2\n",
       "\\item 3\n",
       "\\end{enumerate*}\n"
      ],
      "text/markdown": [
       "1. 1\n",
       "2. 1\n",
       "3. 1\n",
       "4. 1\n",
       "5. 1\n",
       "6. 2\n",
       "7. 2\n",
       "8. 3\n",
       "\n",
       "\n"
      ],
      "text/plain": [
       "[1] 1 1 1 1 1 2 2 3"
      ]
     },
     "metadata": {},
     "output_type": "display_data"
    }
   ],
   "source": [
    "repeat_each <- rep(c(1,2,3), each = 3) \n",
    "repeat_times <- rep(c(1,2,3), times = 3)\n",
    "repeat_indepent <- rep(c(1,2,3), times = c(5,2,1))\n",
    "repeat_each\n",
    "repeat_times\n",
    "repeat_indepent\n",
    "\n",
    "\n",
    "# length and sort"
   ]
  },
  {
   "cell_type": "markdown",
   "id": "fc530e01-8c2d-4c59-8f6d-5643cb407e03",
   "metadata": {},
   "source": [
    "**Lists**"
   ]
  },
  {
   "cell_type": "code",
   "execution_count": 37,
   "id": "fcf37964-bd65-405b-aff0-9c2dd3324e5e",
   "metadata": {},
   "outputs": [],
   "source": [
    "mylist<-list(\"a\", 1, \"b\", 2)"
   ]
  },
  {
   "cell_type": "markdown",
   "id": "28825502-67cc-49e6-b574-6a89682d0e64",
   "metadata": {},
   "source": [
    "Indexing and slicing"
   ]
  },
  {
   "cell_type": "code",
   "execution_count": 38,
   "id": "23b115f8-b44f-461c-89a4-3f53bc2f82f8",
   "metadata": {},
   "outputs": [
    {
     "data": {
      "text/html": [
       "<ol>\n",
       "\t<li>'a'</li>\n",
       "</ol>\n"
      ],
      "text/latex": [
       "\\begin{enumerate}\n",
       "\\item 'a'\n",
       "\\end{enumerate}\n"
      ],
      "text/markdown": [
       "1. 'a'\n",
       "\n",
       "\n"
      ],
      "text/plain": [
       "[[1]]\n",
       "[1] \"a\"\n"
      ]
     },
     "metadata": {},
     "output_type": "display_data"
    },
    {
     "data": {
      "text/html": [
       "<ol>\n",
       "\t<li>'a'</li>\n",
       "\t<li>5.1</li>\n",
       "\t<li>'b'</li>\n",
       "\t<li>2</li>\n",
       "</ol>\n"
      ],
      "text/latex": [
       "\\begin{enumerate}\n",
       "\\item 'a'\n",
       "\\item 5.1\n",
       "\\item 'b'\n",
       "\\item 2\n",
       "\\end{enumerate}\n"
      ],
      "text/markdown": [
       "1. 'a'\n",
       "2. 5.1\n",
       "3. 'b'\n",
       "4. 2\n",
       "\n",
       "\n"
      ],
      "text/plain": [
       "[[1]]\n",
       "[1] \"a\"\n",
       "\n",
       "[[2]]\n",
       "[1] 5.1\n",
       "\n",
       "[[3]]\n",
       "[1] \"b\"\n",
       "\n",
       "[[4]]\n",
       "[1] 2\n"
      ]
     },
     "metadata": {},
     "output_type": "display_data"
    },
    {
     "data": {
      "text/html": [
       "<ol>\n",
       "\t<li>5.1</li>\n",
       "\t<li>'b'</li>\n",
       "\t<li>2</li>\n",
       "</ol>\n"
      ],
      "text/latex": [
       "\\begin{enumerate}\n",
       "\\item 5.1\n",
       "\\item 'b'\n",
       "\\item 2\n",
       "\\end{enumerate}\n"
      ],
      "text/markdown": [
       "1. 5.1\n",
       "2. 'b'\n",
       "3. 2\n",
       "\n",
       "\n"
      ],
      "text/plain": [
       "[[1]]\n",
       "[1] 5.1\n",
       "\n",
       "[[2]]\n",
       "[1] \"b\"\n",
       "\n",
       "[[3]]\n",
       "[1] 2\n"
      ]
     },
     "metadata": {},
     "output_type": "display_data"
    }
   ],
   "source": [
    "mylist[1]\n",
    "mylist[2]<-5.1\n",
    "mylist\n",
    "(mylist)[2:4] # last item included"
   ]
  },
  {
   "cell_type": "markdown",
   "id": "3832d158-56f1-4f42-8e11-3106134b52b9",
   "metadata": {},
   "source": [
    "Operator ???"
   ]
  },
  {
   "cell_type": "code",
   "execution_count": 39,
   "id": "1b7a5ac1-a8a4-4c05-aad2-892dd9fb71f8",
   "metadata": {},
   "outputs": [
    {
     "data": {
      "text/html": [
       "TRUE"
      ],
      "text/latex": [
       "TRUE"
      ],
      "text/markdown": [
       "TRUE"
      ],
      "text/plain": [
       "[1] TRUE"
      ]
     },
     "metadata": {},
     "output_type": "display_data"
    }
   ],
   "source": [
    "2 %in% mylist"
   ]
  },
  {
   "cell_type": "code",
   "execution_count": 40,
   "id": "bbd8920a-57b6-4bcb-b976-235ed6025208",
   "metadata": {
    "scrolled": true
   },
   "outputs": [
    {
     "data": {
      "text/html": [
       "4"
      ],
      "text/latex": [
       "4"
      ],
      "text/markdown": [
       "4"
      ],
      "text/plain": [
       "[1] 4"
      ]
     },
     "metadata": {},
     "output_type": "display_data"
    },
    {
     "data": {
      "text/html": [
       "<ol>\n",
       "\t<li>'a'</li>\n",
       "\t<li>5.1</li>\n",
       "\t<li>'b'</li>\n",
       "\t<li>2</li>\n",
       "\t<li>55</li>\n",
       "</ol>\n"
      ],
      "text/latex": [
       "\\begin{enumerate}\n",
       "\\item 'a'\n",
       "\\item 5.1\n",
       "\\item 'b'\n",
       "\\item 2\n",
       "\\item 55\n",
       "\\end{enumerate}\n"
      ],
      "text/markdown": [
       "1. 'a'\n",
       "2. 5.1\n",
       "3. 'b'\n",
       "4. 2\n",
       "5. 55\n",
       "\n",
       "\n"
      ],
      "text/plain": [
       "[[1]]\n",
       "[1] \"a\"\n",
       "\n",
       "[[2]]\n",
       "[1] 5.1\n",
       "\n",
       "[[3]]\n",
       "[1] \"b\"\n",
       "\n",
       "[[4]]\n",
       "[1] 2\n",
       "\n",
       "[[5]]\n",
       "[1] 55\n"
      ]
     },
     "metadata": {},
     "output_type": "display_data"
    },
    {
     "data": {
      "text/html": [
       "<ol>\n",
       "\t<li>'a'</li>\n",
       "\t<li>5.1</li>\n",
       "\t<li>'ok'</li>\n",
       "\t<li>'b'</li>\n",
       "\t<li>2</li>\n",
       "</ol>\n"
      ],
      "text/latex": [
       "\\begin{enumerate}\n",
       "\\item 'a'\n",
       "\\item 5.1\n",
       "\\item 'ok'\n",
       "\\item 'b'\n",
       "\\item 2\n",
       "\\end{enumerate}\n"
      ],
      "text/markdown": [
       "1. 'a'\n",
       "2. 5.1\n",
       "3. 'ok'\n",
       "4. 'b'\n",
       "5. 2\n",
       "\n",
       "\n"
      ],
      "text/plain": [
       "[[1]]\n",
       "[1] \"a\"\n",
       "\n",
       "[[2]]\n",
       "[1] 5.1\n",
       "\n",
       "[[3]]\n",
       "[1] \"ok\"\n",
       "\n",
       "[[4]]\n",
       "[1] \"b\"\n",
       "\n",
       "[[5]]\n",
       "[1] 2\n"
      ]
     },
     "metadata": {},
     "output_type": "display_data"
    },
    {
     "data": {
      "text/html": [
       "<ol>\n",
       "\t<li>'a'</li>\n",
       "\t<li>5.1</li>\n",
       "\t<li>'b'</li>\n",
       "\t<li>2</li>\n",
       "</ol>\n"
      ],
      "text/latex": [
       "\\begin{enumerate}\n",
       "\\item 'a'\n",
       "\\item 5.1\n",
       "\\item 'b'\n",
       "\\item 2\n",
       "\\end{enumerate}\n"
      ],
      "text/markdown": [
       "1. 'a'\n",
       "2. 5.1\n",
       "3. 'b'\n",
       "4. 2\n",
       "\n",
       "\n"
      ],
      "text/plain": [
       "[[1]]\n",
       "[1] \"a\"\n",
       "\n",
       "[[2]]\n",
       "[1] 5.1\n",
       "\n",
       "[[3]]\n",
       "[1] \"b\"\n",
       "\n",
       "[[4]]\n",
       "[1] 2\n"
      ]
     },
     "metadata": {},
     "output_type": "display_data"
    }
   ],
   "source": [
    "length(mylist)\n",
    "append(mylist, 55)\n",
    "append(mylist, \"ok\", after=2)\n",
    "# remove\n",
    "mylist\n",
    "mylist<-mylist[-2]"
   ]
  },
  {
   "cell_type": "code",
   "execution_count": 41,
   "id": "4ff17352-4aaf-4759-b5a1-60a0cfa4947b",
   "metadata": {},
   "outputs": [
    {
     "name": "stdout",
     "output_type": "stream",
     "text": [
      "[1] \"a\"\n",
      "[1] \"b\"\n",
      "[1] 2\n"
     ]
    }
   ],
   "source": [
    "for (x in mylist) {\n",
    "    print(x)\n",
    "}"
   ]
  },
  {
   "cell_type": "code",
   "execution_count": 42,
   "id": "f4de14e1-b56c-4288-9830-5d06823d760e",
   "metadata": {},
   "outputs": [
    {
     "data": {
      "text/html": [
       "<ol>\n",
       "\t<li>'a'</li>\n",
       "\t<li>'b'</li>\n",
       "\t<li>2</li>\n",
       "\t<li>'yes'</li>\n",
       "\t<li>'no'</li>\n",
       "\t<li>8</li>\n",
       "</ol>\n"
      ],
      "text/latex": [
       "\\begin{enumerate}\n",
       "\\item 'a'\n",
       "\\item 'b'\n",
       "\\item 2\n",
       "\\item 'yes'\n",
       "\\item 'no'\n",
       "\\item 8\n",
       "\\end{enumerate}\n"
      ],
      "text/markdown": [
       "1. 'a'\n",
       "2. 'b'\n",
       "3. 2\n",
       "4. 'yes'\n",
       "5. 'no'\n",
       "6. 8\n",
       "\n",
       "\n"
      ],
      "text/plain": [
       "[[1]]\n",
       "[1] \"a\"\n",
       "\n",
       "[[2]]\n",
       "[1] \"b\"\n",
       "\n",
       "[[3]]\n",
       "[1] 2\n",
       "\n",
       "[[4]]\n",
       "[1] \"yes\"\n",
       "\n",
       "[[5]]\n",
       "[1] \"no\"\n",
       "\n",
       "[[6]]\n",
       "[1] 8\n"
      ]
     },
     "metadata": {},
     "output_type": "display_data"
    }
   ],
   "source": [
    "list<-list(\"yes\", \"no\", 8)\n",
    "new<-c(mylist, list)\n",
    "new"
   ]
  },
  {
   "cell_type": "markdown",
   "id": "19517411-4b87-45f7-8a3f-3f1c13339ed9",
   "metadata": {},
   "source": [
    "**Matrices**"
   ]
  },
  {
   "cell_type": "code",
   "execution_count": 49,
   "id": "bf658975-80a9-45ea-b57b-0907a97eadab",
   "metadata": {},
   "outputs": [],
   "source": [
    "thismatrix <- matrix(c(1,2,3,4,5,6), nrow = 3, ncol = 2)"
   ]
  },
  {
   "cell_type": "markdown",
   "id": "5f5ff17a-13de-45b1-94eb-e430c39ec635",
   "metadata": {},
   "source": [
    "Indexing and Slicing"
   ]
  },
  {
   "cell_type": "code",
   "execution_count": 50,
   "id": "367f795e-40e7-40c1-a92e-a1fd9bb453ea",
   "metadata": {},
   "outputs": [
    {
     "data": {
      "text/html": [
       "5"
      ],
      "text/latex": [
       "5"
      ],
      "text/markdown": [
       "5"
      ],
      "text/plain": [
       "[1] 5"
      ]
     },
     "metadata": {},
     "output_type": "display_data"
    },
    {
     "data": {
      "text/html": [
       "<style>\n",
       ".list-inline {list-style: none; margin:0; padding: 0}\n",
       ".list-inline>li {display: inline-block}\n",
       ".list-inline>li:not(:last-child)::after {content: \"\\00b7\"; padding: 0 .5ex}\n",
       "</style>\n",
       "<ol class=list-inline><li>2</li><li>5</li></ol>\n"
      ],
      "text/latex": [
       "\\begin{enumerate*}\n",
       "\\item 2\n",
       "\\item 5\n",
       "\\end{enumerate*}\n"
      ],
      "text/markdown": [
       "1. 2\n",
       "2. 5\n",
       "\n",
       "\n"
      ],
      "text/plain": [
       "[1] 2 5"
      ]
     },
     "metadata": {},
     "output_type": "display_data"
    },
    {
     "data": {
      "text/html": [
       "<style>\n",
       ".list-inline {list-style: none; margin:0; padding: 0}\n",
       ".list-inline>li {display: inline-block}\n",
       ".list-inline>li:not(:last-child)::after {content: \"\\00b7\"; padding: 0 .5ex}\n",
       "</style>\n",
       "<ol class=list-inline><li>4</li><li>5</li><li>6</li></ol>\n"
      ],
      "text/latex": [
       "\\begin{enumerate*}\n",
       "\\item 4\n",
       "\\item 5\n",
       "\\item 6\n",
       "\\end{enumerate*}\n"
      ],
      "text/markdown": [
       "1. 4\n",
       "2. 5\n",
       "3. 6\n",
       "\n",
       "\n"
      ],
      "text/plain": [
       "[1] 4 5 6"
      ]
     },
     "metadata": {},
     "output_type": "display_data"
    },
    {
     "data": {
      "text/html": [
       "<table class=\"dataframe\">\n",
       "<caption>A matrix: 2 × 2 of type dbl</caption>\n",
       "<tbody>\n",
       "\t<tr><td>1</td><td>4</td></tr>\n",
       "\t<tr><td>2</td><td>5</td></tr>\n",
       "</tbody>\n",
       "</table>\n"
      ],
      "text/latex": [
       "A matrix: 2 × 2 of type dbl\n",
       "\\begin{tabular}{ll}\n",
       "\t 1 & 4\\\\\n",
       "\t 2 & 5\\\\\n",
       "\\end{tabular}\n"
      ],
      "text/markdown": [
       "\n",
       "A matrix: 2 × 2 of type dbl\n",
       "\n",
       "| 1 | 4 |\n",
       "| 2 | 5 |\n",
       "\n"
      ],
      "text/plain": [
       "     [,1] [,2]\n",
       "[1,] 1    4   \n",
       "[2,] 2    5   "
      ]
     },
     "metadata": {},
     "output_type": "display_data"
    },
    {
     "data": {
      "text/html": [
       "<table class=\"dataframe\">\n",
       "<caption>A matrix: 3 × 2 of type dbl</caption>\n",
       "<tbody>\n",
       "\t<tr><td>1</td><td>4</td></tr>\n",
       "\t<tr><td>2</td><td>5</td></tr>\n",
       "\t<tr><td>3</td><td>6</td></tr>\n",
       "</tbody>\n",
       "</table>\n"
      ],
      "text/latex": [
       "A matrix: 3 × 2 of type dbl\n",
       "\\begin{tabular}{ll}\n",
       "\t 1 & 4\\\\\n",
       "\t 2 & 5\\\\\n",
       "\t 3 & 6\\\\\n",
       "\\end{tabular}\n"
      ],
      "text/markdown": [
       "\n",
       "A matrix: 3 × 2 of type dbl\n",
       "\n",
       "| 1 | 4 |\n",
       "| 2 | 5 |\n",
       "| 3 | 6 |\n",
       "\n"
      ],
      "text/plain": [
       "     [,1] [,2]\n",
       "[1,] 1    4   \n",
       "[2,] 2    5   \n",
       "[3,] 3    6   "
      ]
     },
     "metadata": {},
     "output_type": "display_data"
    }
   ],
   "source": [
    "thismatrix[2, 2] # row, column\n",
    "thismatrix[2,] # whole row\n",
    "thismatrix[,2] # whole column\n",
    "thismatrix[c(1,2),] # more than one row\n",
    "thismatrix[,c(1,2)] # more than one column"
   ]
  },
  {
   "cell_type": "code",
   "execution_count": null,
   "id": "3641a85d-be84-4449-a721-4479cfd555c3",
   "metadata": {},
   "outputs": [],
   "source": []
  },
  {
   "cell_type": "markdown",
   "id": "4683315b-cf63-4737-8755-1ab08cd90145",
   "metadata": {},
   "source": [
    "**Arrays**"
   ]
  },
  {
   "cell_type": "code",
   "execution_count": 45,
   "id": "7fbb2e1e-2534-45ff-8f27-2d05681bde22",
   "metadata": {},
   "outputs": [
    {
     "data": {
      "text/html": [
       "<style>\n",
       ".list-inline {list-style: none; margin:0; padding: 0}\n",
       ".list-inline>li {display: inline-block}\n",
       ".list-inline>li:not(:last-child)::after {content: \"\\00b7\"; padding: 0 .5ex}\n",
       "</style>\n",
       "<ol class=list-inline><li>1</li><li>2</li><li>3</li><li>4</li><li>5</li><li>6</li><li>7</li><li>8</li><li>9</li><li>10</li><li>11</li><li>12</li><li>13</li><li>14</li><li>15</li><li>16</li><li>17</li><li>18</li><li>19</li><li>20</li><li>21</li><li>22</li><li>23</li><li>24</li></ol>\n"
      ],
      "text/latex": [
       "\\begin{enumerate*}\n",
       "\\item 1\n",
       "\\item 2\n",
       "\\item 3\n",
       "\\item 4\n",
       "\\item 5\n",
       "\\item 6\n",
       "\\item 7\n",
       "\\item 8\n",
       "\\item 9\n",
       "\\item 10\n",
       "\\item 11\n",
       "\\item 12\n",
       "\\item 13\n",
       "\\item 14\n",
       "\\item 15\n",
       "\\item 16\n",
       "\\item 17\n",
       "\\item 18\n",
       "\\item 19\n",
       "\\item 20\n",
       "\\item 21\n",
       "\\item 22\n",
       "\\item 23\n",
       "\\item 24\n",
       "\\end{enumerate*}\n"
      ],
      "text/markdown": [
       "1. 1\n",
       "2. 2\n",
       "3. 3\n",
       "4. 4\n",
       "5. 5\n",
       "6. 6\n",
       "7. 7\n",
       "8. 8\n",
       "9. 9\n",
       "10. 10\n",
       "11. 11\n",
       "12. 12\n",
       "13. 13\n",
       "14. 14\n",
       "15. 15\n",
       "16. 16\n",
       "17. 17\n",
       "18. 18\n",
       "19. 19\n",
       "20. 20\n",
       "21. 21\n",
       "22. 22\n",
       "23. 23\n",
       "24. 24\n",
       "\n",
       "\n"
      ],
      "text/plain": [
       " [1]  1  2  3  4  5  6  7  8  9 10 11 12 13 14 15 16 17 18 19 20 21 22 23 24"
      ]
     },
     "metadata": {},
     "output_type": "display_data"
    },
    {
     "data": {
      "text/html": [
       "<style>\n",
       ".list-inline {list-style: none; margin:0; padding: 0}\n",
       ".list-inline>li {display: inline-block}\n",
       ".list-inline>li:not(:last-child)::after {content: \"\\00b7\"; padding: 0 .5ex}\n",
       "</style>\n",
       "<ol class=list-inline><li>1</li><li>2</li><li>3</li><li>4</li><li>5</li><li>6</li><li>7</li><li>8</li><li>9</li><li>10</li><li>11</li><li>12</li><li>13</li><li>14</li><li>15</li><li>16</li><li>17</li><li>18</li><li>19</li><li>20</li><li>21</li><li>22</li><li>23</li><li>24</li></ol>\n"
      ],
      "text/latex": [
       "\\begin{enumerate*}\n",
       "\\item 1\n",
       "\\item 2\n",
       "\\item 3\n",
       "\\item 4\n",
       "\\item 5\n",
       "\\item 6\n",
       "\\item 7\n",
       "\\item 8\n",
       "\\item 9\n",
       "\\item 10\n",
       "\\item 11\n",
       "\\item 12\n",
       "\\item 13\n",
       "\\item 14\n",
       "\\item 15\n",
       "\\item 16\n",
       "\\item 17\n",
       "\\item 18\n",
       "\\item 19\n",
       "\\item 20\n",
       "\\item 21\n",
       "\\item 22\n",
       "\\item 23\n",
       "\\item 24\n",
       "\\end{enumerate*}\n"
      ],
      "text/markdown": [
       "1. 1\n",
       "2. 2\n",
       "3. 3\n",
       "4. 4\n",
       "5. 5\n",
       "6. 6\n",
       "7. 7\n",
       "8. 8\n",
       "9. 9\n",
       "10. 10\n",
       "11. 11\n",
       "12. 12\n",
       "13. 13\n",
       "14. 14\n",
       "15. 15\n",
       "16. 16\n",
       "17. 17\n",
       "18. 18\n",
       "19. 19\n",
       "20. 20\n",
       "21. 21\n",
       "22. 22\n",
       "23. 23\n",
       "24. 24\n",
       "\n",
       "\n"
      ],
      "text/plain": [
       ", , 1\n",
       "\n",
       "     [,1] [,2] [,3]\n",
       "[1,]    1    5    9\n",
       "[2,]    2    6   10\n",
       "[3,]    3    7   11\n",
       "[4,]    4    8   12\n",
       "\n",
       ", , 2\n",
       "\n",
       "     [,1] [,2] [,3]\n",
       "[1,]   13   17   21\n",
       "[2,]   14   18   22\n",
       "[3,]   15   19   23\n",
       "[4,]   16   20   24\n"
      ]
     },
     "metadata": {},
     "output_type": "display_data"
    },
    {
     "data": {
      "text/html": [
       "18"
      ],
      "text/latex": [
       "18"
      ],
      "text/markdown": [
       "18"
      ],
      "text/plain": [
       "[1] 18"
      ]
     },
     "metadata": {},
     "output_type": "display_data"
    }
   ],
   "source": [
    "thisarray <- c(1:24)\n",
    "multiarray <- array(thisarray, dim = c(4, 3, 2)) # rows, columns, dimensions\n",
    "thisarray\n",
    "multiarray"
   ]
  },
  {
   "cell_type": "markdown",
   "id": "40aaf2c8-95cc-4cf1-a42a-1ae67823edd7",
   "metadata": {},
   "source": [
    "Indexing and Slicing"
   ]
  },
  {
   "cell_type": "code",
   "execution_count": null,
   "id": "2eea82b1-4474-4f43-a0fb-c4c274c56e70",
   "metadata": {},
   "outputs": [],
   "source": [
    "multiarray[2, 2, 2]  # row, column, matrix level\n",
    "multiarray[,c(1), 1]\n",
    "multiarray[c(1),,1]"
   ]
  },
  {
   "cell_type": "markdown",
   "id": "b03e5df1-2c60-4c9f-82ee-6e3931248487",
   "metadata": {},
   "source": [
    "Operator"
   ]
  },
  {
   "cell_type": "code",
   "execution_count": 46,
   "id": "fc613882-064b-4070-bd2b-680f16fdc70c",
   "metadata": {},
   "outputs": [
    {
     "data": {
      "text/html": [
       "TRUE"
      ],
      "text/latex": [
       "TRUE"
      ],
      "text/markdown": [
       "TRUE"
      ],
      "text/plain": [
       "[1] TRUE"
      ]
     },
     "metadata": {},
     "output_type": "display_data"
    }
   ],
   "source": [
    "4 %in% multiarray"
   ]
  },
  {
   "cell_type": "code",
   "execution_count": 47,
   "id": "b12392ee-ee51-4c23-b008-6608d81fecd8",
   "metadata": {},
   "outputs": [
    {
     "data": {
      "text/html": [
       "<style>\n",
       ".list-inline {list-style: none; margin:0; padding: 0}\n",
       ".list-inline>li {display: inline-block}\n",
       ".list-inline>li:not(:last-child)::after {content: \"\\00b7\"; padding: 0 .5ex}\n",
       "</style>\n",
       "<ol class=list-inline><li>4</li><li>3</li><li>2</li></ol>\n"
      ],
      "text/latex": [
       "\\begin{enumerate*}\n",
       "\\item 4\n",
       "\\item 3\n",
       "\\item 2\n",
       "\\end{enumerate*}\n"
      ],
      "text/markdown": [
       "1. 4\n",
       "2. 3\n",
       "3. 2\n",
       "\n",
       "\n"
      ],
      "text/plain": [
       "[1] 4 3 2"
      ]
     },
     "metadata": {},
     "output_type": "display_data"
    }
   ],
   "source": [
    "dim(multiarray)\n",
    "# length"
   ]
  },
  {
   "cell_type": "code",
   "execution_count": 48,
   "id": "eaec3fc0-b7e0-4c71-9de9-89aee66641ab",
   "metadata": {},
   "outputs": [
    {
     "name": "stdout",
     "output_type": "stream",
     "text": [
      "[1] 1\n",
      "[1] 2\n",
      "[1] 3\n",
      "[1] 4\n",
      "[1] 5\n",
      "[1] 6\n",
      "[1] 7\n",
      "[1] 8\n",
      "[1] 9\n",
      "[1] 10\n",
      "[1] 11\n",
      "[1] 12\n",
      "[1] 13\n",
      "[1] 14\n",
      "[1] 15\n",
      "[1] 16\n",
      "[1] 17\n",
      "[1] 18\n",
      "[1] 19\n",
      "[1] 20\n",
      "[1] 21\n",
      "[1] 22\n",
      "[1] 23\n",
      "[1] 24\n"
     ]
    }
   ],
   "source": [
    "for (x in multiarray){\n",
    "    print(x)\n",
    "}"
   ]
  },
  {
   "cell_type": "code",
   "execution_count": null,
   "id": "ff47c2d1-a745-4946-8899-3d36cb0ce752",
   "metadata": {},
   "outputs": [],
   "source": []
  }
 ],
 "metadata": {
  "kernelspec": {
   "display_name": "R",
   "language": "R",
   "name": "ir"
  },
  "language_info": {
   "codemirror_mode": "r",
   "file_extension": ".r",
   "mimetype": "text/x-r-source",
   "name": "R",
   "pygments_lexer": "r",
   "version": "4.4.0"
  }
 },
 "nbformat": 4,
 "nbformat_minor": 5
}
